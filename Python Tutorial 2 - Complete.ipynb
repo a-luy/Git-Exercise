{
 "cells": [
  {
   "cell_type": "markdown",
   "id": "3efec71f",
   "metadata": {},
   "source": [
    "### Functions"
   ]
  },
  {
   "cell_type": "markdown",
   "id": "433e6f5a",
   "metadata": {},
   "source": [
    "Functions are a convenient way to divide our code into useful blocks of codes, allowing us to order our code, make it more readable, reuse it and save some time. Also functions are a key way to define interfaces so programmers can share their code.\n"
   ]
  },
  {
   "cell_type": "code",
   "execution_count": 63,
   "id": "497d3815",
   "metadata": {},
   "outputs": [],
   "source": [
    "# A function can take inputs, called arguments, and return an output. \n",
    "# Though it does not necessarily have to do either of those.\n",
    "\n",
    "def MyFunction():\n",
    "    print (\"This is my first function\")"
   ]
  },
  {
   "cell_type": "code",
   "execution_count": 64,
   "id": "df6bd544",
   "metadata": {},
   "outputs": [
    {
     "name": "stdout",
     "output_type": "stream",
     "text": [
      "This is my first function\n"
     ]
    }
   ],
   "source": [
    "# Now you can call the function by using its name:\n",
    "\n",
    "MyFunction()"
   ]
  },
  {
   "cell_type": "code",
   "execution_count": 65,
   "id": "29f5e4a3",
   "metadata": {},
   "outputs": [],
   "source": [
    "# Here is a function that takes inputs (arguments) and returns an output\n",
    "\n",
    "def squared(InputNumber):\n",
    "    \n",
    "    return(InputNumber*InputNumber)"
   ]
  },
  {
   "cell_type": "code",
   "execution_count": 66,
   "id": "7f268cbd",
   "metadata": {},
   "outputs": [
    {
     "data": {
      "text/plain": [
       "100"
      ]
     },
     "execution_count": 66,
     "metadata": {},
     "output_type": "execute_result"
    }
   ],
   "source": [
    "squared(10)"
   ]
  },
  {
   "cell_type": "markdown",
   "id": "3e23310c",
   "metadata": {},
   "source": [
    "The examples above are just simple functions for the purpose of education, with just one line of code inside the function, however, functions in reality **can contain blocks of complicated codes**. \n",
    "\n",
    "Suppose you create a function that performs an otherwise tedious task that would require hundreds of lines of codes. If you create that function correctly and you are sure that it performs the task flawlessly, then you can share your function! Others can just use your function like a black box! They dont need to know what is inside the function. They can just use it to avoid 'reinventing the wheels'"
   ]
  },
  {
   "cell_type": "markdown",
   "id": "cbfea9cb",
   "metadata": {},
   "source": [
    "#### Practice Problem 1"
   ]
  },
  {
   "cell_type": "markdown",
   "id": "35325197",
   "metadata": {},
   "source": [
    "Write a function that would get a number and then print out whether the number is even or odd\n"
   ]
  },
  {
   "cell_type": "code",
   "execution_count": 91,
   "id": "e761f778",
   "metadata": {},
   "outputs": [],
   "source": [
    "def Even_or_Odd(number):\n",
    "    if number%2 == 0:\n",
    "        print(number, \" is even\")\n",
    "    else:\n",
    "        print(number, \" is odd\")"
   ]
  },
  {
   "cell_type": "code",
   "execution_count": 93,
   "id": "a15ed46b",
   "metadata": {},
   "outputs": [
    {
     "name": "stdout",
     "output_type": "stream",
     "text": [
      "11  is odd\n"
     ]
    }
   ],
   "source": [
    "# Test your function on 11 to see whether it says it is odd or even\n",
    "\n",
    "Even_or_Odd(11)\n"
   ]
  },
  {
   "cell_type": "markdown",
   "id": "c5e555cd",
   "metadata": {},
   "source": [
    "#### Practice Problem 2"
   ]
  },
  {
   "cell_type": "markdown",
   "id": "fd06aeab",
   "metadata": {},
   "source": [
    "Write a function that would get two numbers and then would return the absolute difference between them"
   ]
  },
  {
   "cell_type": "code",
   "execution_count": 95,
   "id": "9e6d6354",
   "metadata": {},
   "outputs": [],
   "source": [
    "def AbDiff(a,b):\n",
    "    c = a - b\n",
    "    if c>= 0:\n",
    "        print (c)\n",
    "    else:\n",
    "        print(-c)"
   ]
  },
  {
   "cell_type": "code",
   "execution_count": 100,
   "id": "d6efa1fc",
   "metadata": {},
   "outputs": [
    {
     "name": "stdout",
     "output_type": "stream",
     "text": [
      "2\n"
     ]
    }
   ],
   "source": [
    "# Test your function on -10 and -12\n",
    "\n",
    "AbDiff(-10, -12)"
   ]
  },
  {
   "cell_type": "markdown",
   "id": "933a8d0a",
   "metadata": {},
   "source": [
    "### Modules, Packages and Libraries"
   ]
  },
  {
   "cell_type": "markdown",
   "id": "7fb23a12",
   "metadata": {},
   "source": [
    "Modules in Python are **Python files** with a **.py** extension. The name of the module will be the name of the file. A Python module can have a set of functions, variables, etc that performs certain tasks. "
   ]
  },
  {
   "cell_type": "markdown",
   "id": "247f1a32",
   "metadata": {},
   "source": [
    "To use a module, we would need to **import** the module (since it is in a different file).\n",
    "A collection of modules is called a **package** and a collection of packages is called a **library**.\n",
    "\n",
    "For example, **sklearn** is a library. To use sklearn we have to import it:"
   ]
  },
  {
   "cell_type": "code",
   "execution_count": 67,
   "id": "4696c7f7",
   "metadata": {},
   "outputs": [],
   "source": [
    "import sklearn\n",
    "\n",
    "# We can an alias to shorten our effort each time we need to use that library\n",
    "import sklearn as sk\n"
   ]
  },
  {
   "cell_type": "code",
   "execution_count": 19,
   "id": "5856acba",
   "metadata": {},
   "outputs": [],
   "source": [
    "# or we can import a specifit function or datasets from the library\n",
    "\n",
    "from sklearn import datasets\n",
    "\n",
    "# or we can import everything by using a *\n",
    "from sklearn import *"
   ]
  },
  {
   "cell_type": "markdown",
   "id": "1b086b43",
   "metadata": {},
   "source": [
    "Now we can use sklearn library in our program. However each time we want to access a function in that library, we have to reference it:"
   ]
  },
  {
   "cell_type": "code",
   "execution_count": 28,
   "id": "6d7c4d52",
   "metadata": {},
   "outputs": [
    {
     "data": {
      "text/plain": [
       "dict_keys(['data', 'target', 'frame', 'target_names', 'DESCR', 'feature_names', 'filename'])"
      ]
     },
     "execution_count": 28,
     "metadata": {},
     "output_type": "execute_result"
    }
   ],
   "source": [
    "# for example we want to use a dataset called iris in sklearn's datasets\n",
    "\n",
    "MyData = datasets.load_iris()\n",
    "\n",
    "MyData.keys()\n"
   ]
  },
  {
   "cell_type": "markdown",
   "id": "f5277193",
   "metadata": {},
   "source": [
    "### Data Types - Continuted"
   ]
  },
  {
   "cell_type": "markdown",
   "id": "9f4e0787",
   "metadata": {},
   "source": [
    "We learned about variables, strings, and Lists. There are other types of data. Such as Tuples and Sets and dictionaries: "
   ]
  },
  {
   "cell_type": "markdown",
   "id": "882f6a51",
   "metadata": {},
   "source": [
    "### Tuples"
   ]
  },
  {
   "cell_type": "markdown",
   "id": "d6da5cb1",
   "metadata": {},
   "source": [
    "We learned that a List is a collection of data points which is ordered and **changeable**. Allows duplicate members. We use **[ ]** to define Lists\n",
    "\n",
    "A Tuple is a collection which is ordered and **unchangeable**. Allows duplicate members. We use **( )** to define Tuples"
   ]
  },
  {
   "cell_type": "code",
   "execution_count": 129,
   "id": "3b3c120f",
   "metadata": {},
   "outputs": [],
   "source": [
    "# Define a list and a Tuple\n",
    "\n",
    "MyList = [1, 2, 3]\n",
    "\n",
    "MyTuple = (1, 2, 3)"
   ]
  },
  {
   "cell_type": "code",
   "execution_count": 169,
   "id": "5ff7da66",
   "metadata": {},
   "outputs": [
    {
     "data": {
      "text/plain": [
       "1"
      ]
     },
     "execution_count": 169,
     "metadata": {},
     "output_type": "execute_result"
    }
   ],
   "source": [
    "# Try to see the difference between the two\n",
    "\n",
    "MyTuple[0]"
   ]
  },
  {
   "cell_type": "code",
   "execution_count": 131,
   "id": "26085dae",
   "metadata": {},
   "outputs": [],
   "source": [
    "MyList.append(33)"
   ]
  },
  {
   "cell_type": "code",
   "execution_count": 132,
   "id": "a496f759",
   "metadata": {},
   "outputs": [
    {
     "data": {
      "text/plain": [
       "[1, 2, 3, 33]"
      ]
     },
     "execution_count": 132,
     "metadata": {},
     "output_type": "execute_result"
    }
   ],
   "source": [
    "MyList"
   ]
  },
  {
   "cell_type": "code",
   "execution_count": 170,
   "id": "5720d165",
   "metadata": {},
   "outputs": [
    {
     "ename": "AttributeError",
     "evalue": "'tuple' object has no attribute 'append'",
     "output_type": "error",
     "traceback": [
      "\u001b[1;31m---------------------------------------------------------------------------\u001b[0m",
      "\u001b[1;31mAttributeError\u001b[0m                            Traceback (most recent call last)",
      "\u001b[1;32m~\\AppData\\Local\\Temp/ipykernel_4968/3655689222.py\u001b[0m in \u001b[0;36m<module>\u001b[1;34m\u001b[0m\n\u001b[0;32m      1\u001b[0m \u001b[1;31m# Try to add a new number to the tuple\u001b[0m\u001b[1;33m\u001b[0m\u001b[1;33m\u001b[0m\u001b[1;33m\u001b[0m\u001b[0m\n\u001b[0;32m      2\u001b[0m \u001b[1;33m\u001b[0m\u001b[0m\n\u001b[1;32m----> 3\u001b[1;33m \u001b[0mMyTuple\u001b[0m\u001b[1;33m.\u001b[0m\u001b[0mappend\u001b[0m\u001b[1;33m(\u001b[0m\u001b[1;36m33\u001b[0m\u001b[1;33m)\u001b[0m\u001b[1;33m\u001b[0m\u001b[1;33m\u001b[0m\u001b[0m\n\u001b[0m",
      "\u001b[1;31mAttributeError\u001b[0m: 'tuple' object has no attribute 'append'"
     ]
    }
   ],
   "source": [
    "# Try to add a new number to the tuple\n",
    "\n",
    "MyTuple.append(33)"
   ]
  },
  {
   "cell_type": "markdown",
   "id": "7c89f2d1",
   "metadata": {},
   "source": [
    "### Dictionaries"
   ]
  },
  {
   "cell_type": "markdown",
   "id": "df55f0f1",
   "metadata": {},
   "source": [
    "A **dictionary** is a data type similar to lists, but works with keys and values instead of indexes. Each value stored in a dictionary can be accessed using a key, which is any type of object (a string, a number, a list, etc.) instead of using its index to address it.\n",
    "\n",
    "For example, a database of phone numbers could be stored using a dictionary like this:"
   ]
  },
  {
   "cell_type": "code",
   "execution_count": 29,
   "id": "d81ee43b",
   "metadata": {},
   "outputs": [],
   "source": [
    "PhoneBook = {}\n",
    "\n",
    "# {} shows python to create a dictionary"
   ]
  },
  {
   "cell_type": "code",
   "execution_count": 30,
   "id": "e07ae37c",
   "metadata": {},
   "outputs": [
    {
     "name": "stdout",
     "output_type": "stream",
     "text": [
      "{'James': 9873561315, 'Taylor': 3655683425, 'Mona': 8173246785}\n"
     ]
    }
   ],
   "source": [
    "# To assign items to the dictionary, we do:\n",
    "\n",
    "PhoneBook[\"James\"] = 9873561315\n",
    "PhoneBook[\"Taylor\"] = 3655683425\n",
    "PhoneBook[\"Mona\"] = 8173246785\n",
    "\n",
    "print(PhoneBook)"
   ]
  },
  {
   "cell_type": "markdown",
   "id": "ee0a5d84",
   "metadata": {},
   "source": [
    "We could have instead defined the dictionary like this:"
   ]
  },
  {
   "cell_type": "code",
   "execution_count": 31,
   "id": "b51c8511",
   "metadata": {},
   "outputs": [],
   "source": [
    "PhoneBook2 = {\"James\" : 9873561315, \"Taylor\": 3655683425, \"Mona\"  : 8173246785}"
   ]
  },
  {
   "cell_type": "code",
   "execution_count": 32,
   "id": "307bafd9",
   "metadata": {},
   "outputs": [
    {
     "name": "stdout",
     "output_type": "stream",
     "text": [
      "{'James': 9873561315, 'Taylor': 3655683425, 'Mona': 8173246785}\n"
     ]
    }
   ],
   "source": [
    "print(PhoneBook2)"
   ]
  },
  {
   "cell_type": "markdown",
   "id": "f0eb9ab1",
   "metadata": {},
   "source": [
    "Accessing specific item:"
   ]
  },
  {
   "cell_type": "code",
   "execution_count": 33,
   "id": "1de09826",
   "metadata": {},
   "outputs": [
    {
     "name": "stdout",
     "output_type": "stream",
     "text": [
      "9873561315\n"
     ]
    }
   ],
   "source": [
    "print(PhoneBook[\"James\"])"
   ]
  },
  {
   "cell_type": "markdown",
   "id": "11599e59",
   "metadata": {},
   "source": [
    "#### Dictionary Keys"
   ]
  },
  {
   "cell_type": "markdown",
   "id": "0f4b216b",
   "metadata": {},
   "source": [
    "Keys are the replacement of indexes for dictionaries. For example, \"James\", \"Taylor\", and \"Mona\" are keys of the above dictionaries. \n",
    "\n",
    "Keys have to be unique, meaning you cannot have two different items with the same key"
   ]
  },
  {
   "cell_type": "code",
   "execution_count": 34,
   "id": "09aec3b7",
   "metadata": {},
   "outputs": [
    {
     "data": {
      "text/plain": [
       "dict_keys(['James', 'Taylor', 'Mona'])"
      ]
     },
     "execution_count": 34,
     "metadata": {},
     "output_type": "execute_result"
    }
   ],
   "source": [
    "# To see all the keys of a dictionary, use Dictionary_Name.keys()\n",
    "\n",
    "PhoneBook.keys()"
   ]
  },
  {
   "cell_type": "markdown",
   "id": "c1cdbd10",
   "metadata": {},
   "source": [
    "#### Iterating over a dictionary"
   ]
  },
  {
   "cell_type": "markdown",
   "id": "8592bc42",
   "metadata": {},
   "source": [
    "Dictionaries can be iterated over, just like a list. To iterate over key value pairs, use the following syntax:"
   ]
  },
  {
   "cell_type": "code",
   "execution_count": 36,
   "id": "63a9d4a4",
   "metadata": {},
   "outputs": [
    {
     "name": "stdout",
     "output_type": "stream",
     "text": [
      "James's Phone Number is 9873561315\n",
      "Taylor's Phone Number is 3655683425\n",
      "Mona's Phone Number is 8173246785\n"
     ]
    }
   ],
   "source": [
    "for name, number in PhoneBook.items():\n",
    "    print(\"%s's Phone Number is %d\" % (name, number))\n",
    "    \n",
    "# %s and %d tells the print command that name is a string ( s is for string), and number is a digit (d stands for digit)\n",
    "# So, it prints out name instead of %s and number instead of %d"
   ]
  },
  {
   "cell_type": "markdown",
   "id": "04b65bdd",
   "metadata": {},
   "source": [
    "#### Adding and Removing items from a dictionary"
   ]
  },
  {
   "cell_type": "code",
   "execution_count": 37,
   "id": "cb00e907",
   "metadata": {},
   "outputs": [
    {
     "data": {
      "text/plain": [
       "{'James': 9873561315,\n",
       " 'Taylor': 3655683425,\n",
       " 'Mona': 8173246785,\n",
       " 'Jeff': 8192456789}"
      ]
     },
     "execution_count": 37,
     "metadata": {},
     "output_type": "execute_result"
    }
   ],
   "source": [
    "# To add:\n",
    "\n",
    "PhoneBook[\"Jeff\"] = 8192456789\n",
    "\n",
    "PhoneBook"
   ]
  },
  {
   "cell_type": "code",
   "execution_count": 38,
   "id": "5326cdf0",
   "metadata": {},
   "outputs": [],
   "source": [
    "# To remove, you can use del or pop\n",
    "\n",
    "# Using del:\n",
    "\n",
    "del PhoneBook[\"Mona\"]"
   ]
  },
  {
   "cell_type": "code",
   "execution_count": 39,
   "id": "17fc6e5a",
   "metadata": {},
   "outputs": [
    {
     "data": {
      "text/plain": [
       "{'James': 9873561315, 'Taylor': 3655683425, 'Jeff': 8192456789}"
      ]
     },
     "execution_count": 39,
     "metadata": {},
     "output_type": "execute_result"
    }
   ],
   "source": [
    "PhoneBook"
   ]
  },
  {
   "cell_type": "code",
   "execution_count": 40,
   "id": "6b8e5cc2",
   "metadata": {},
   "outputs": [
    {
     "data": {
      "text/plain": [
       "9873561315"
      ]
     },
     "execution_count": 40,
     "metadata": {},
     "output_type": "execute_result"
    }
   ],
   "source": [
    "# Using pop to remove an item from a dictrionary\n",
    "\n",
    "PhoneBook.pop(\"James\")"
   ]
  },
  {
   "cell_type": "code",
   "execution_count": 41,
   "id": "58c6be40",
   "metadata": {},
   "outputs": [
    {
     "data": {
      "text/plain": [
       "{'Taylor': 3655683425, 'Jeff': 8192456789}"
      ]
     },
     "execution_count": 41,
     "metadata": {},
     "output_type": "execute_result"
    }
   ],
   "source": [
    "PhoneBook"
   ]
  },
  {
   "cell_type": "markdown",
   "id": "4e780a38",
   "metadata": {},
   "source": [
    "#### Practice Problem 3"
   ]
  },
  {
   "cell_type": "markdown",
   "id": "21e645c8",
   "metadata": {},
   "source": [
    "Define a dictionary with the following keys:Cars, Vacations, Year, and 13\n",
    "\n",
    "Cars should contain three brands of your choice, Vacation should contain two destinations of your choice, Year should be 2021 and 13 should contain [\"Monday\", \"Tuesday\", 15, 23.7] (Does not mean anything, just a bunch of data)\n",
    "    \n"
   ]
  },
  {
   "cell_type": "code",
   "execution_count": 148,
   "id": "eed9a498",
   "metadata": {},
   "outputs": [],
   "source": [
    "Data = {}\n",
    "\n",
    "Data[\"Cars\"] = [\"BMW\", \"Mercedes\", \"Tesla\"]\n",
    "\n",
    "Data[\"Vacations\"] = [\"Hawaii\", \"Alaska\", \"Hawaii\"]\n",
    "\n",
    "Data[\"Year\"] = 2021\n",
    "\n",
    "Data[13] = [\"Monday\", \"Tuesday\", 15, 23.7] "
   ]
  },
  {
   "cell_type": "markdown",
   "id": "2e2e0c87",
   "metadata": {},
   "source": [
    "##### Practice Problem 3.1"
   ]
  },
  {
   "cell_type": "code",
   "execution_count": 167,
   "id": "6930c765",
   "metadata": {},
   "outputs": [
    {
     "data": {
      "text/plain": [
       "{'Cars': ['BMW', 'Mercedes', 'Tesla'],\n",
       " 'Vacations': ['Alaska', 'Hawaii'],\n",
       " 13: ['Monday', 'Tuesday', 15, 23.7]}"
      ]
     },
     "execution_count": 167,
     "metadata": {},
     "output_type": "execute_result"
    }
   ],
   "source": [
    "# Print out the dictionary\n",
    "\n",
    "Data"
   ]
  },
  {
   "cell_type": "markdown",
   "id": "265a8d1f",
   "metadata": {},
   "source": [
    "##### Practice Problem 3.2"
   ]
  },
  {
   "cell_type": "code",
   "execution_count": 155,
   "id": "64956943",
   "metadata": {},
   "outputs": [],
   "source": [
    "# Remove \"Year\" from the dictionary\n",
    "\n",
    "del Data[\"Year\"]"
   ]
  },
  {
   "cell_type": "code",
   "execution_count": 158,
   "id": "832cb63f",
   "metadata": {},
   "outputs": [
    {
     "data": {
      "text/plain": [
       "{'Cars': ['BMW', 'Mercedes', 'Tesla'],\n",
       " 'Vacations': ['Hawaii', 'Alaska', 'Hawaii'],\n",
       " 13: ['Monday', 'Tuesday', 15, 23.7]}"
      ]
     },
     "execution_count": 158,
     "metadata": {},
     "output_type": "execute_result"
    }
   ],
   "source": [
    "# Print out the dictionary to see the changes\n",
    "\n",
    "Data\n"
   ]
  },
  {
   "cell_type": "markdown",
   "id": "df52e086",
   "metadata": {},
   "source": [
    "##### Practice Problem 3.3"
   ]
  },
  {
   "cell_type": "code",
   "execution_count": 162,
   "id": "d36bade6",
   "metadata": {},
   "outputs": [],
   "source": [
    "# There are two Hawaii in Vacations, remove one of them\n",
    "\n",
    "Data[\"Vacations\"].remove(\"Hawaii\")"
   ]
  },
  {
   "cell_type": "code",
   "execution_count": 163,
   "id": "a3ae69bb",
   "metadata": {},
   "outputs": [
    {
     "data": {
      "text/plain": [
       "{'Cars': ['BMW', 'Mercedes', 'Tesla'],\n",
       " 'Vacations': ['Alaska', 'Hawaii'],\n",
       " 13: ['Monday', 'Tuesday', 15, 23.7]}"
      ]
     },
     "execution_count": 163,
     "metadata": {},
     "output_type": "execute_result"
    }
   ],
   "source": [
    "# Print out the dictionary to see the changes\n",
    "\n",
    "Data"
   ]
  },
  {
   "cell_type": "markdown",
   "id": "102ee0eb",
   "metadata": {},
   "source": [
    "##### Practice Problem 3.4"
   ]
  },
  {
   "cell_type": "code",
   "execution_count": 165,
   "id": "6da0c7ff",
   "metadata": {},
   "outputs": [
    {
     "name": "stdout",
     "output_type": "stream",
     "text": [
      "BMW\n",
      "Mercedes\n",
      "Tesla\n"
     ]
    }
   ],
   "source": [
    "# Use a for loop to print out each car brand one by one\n",
    "\n",
    "for car in Data[\"Cars\"]:\n",
    "    print (car)"
   ]
  },
  {
   "cell_type": "markdown",
   "id": "5a65b748",
   "metadata": {},
   "source": [
    "### Numpy Arrays"
   ]
  },
  {
   "cell_type": "markdown",
   "id": "d4fa5ac1",
   "metadata": {},
   "source": [
    "**Numpy** is a Python library which stands for Numeric Python. It was created to make computation in Python easier and more efficient (NumPy aims to provide an array object that is up to **50x faster than traditional Python lists**).\n",
    "\n",
    "**Numpy arrays** are great **alternatives to Python Lists**. Some of the key advantages of Numpy arrays are that they are fast, easy to work with, and give users the opportunity to perform calculations across entire arrays."
   ]
  },
  {
   "cell_type": "code",
   "execution_count": 82,
   "id": "b46aef78",
   "metadata": {},
   "outputs": [],
   "source": [
    "# We can make an array out of a list \n",
    "\n",
    "MyList = [1, 2, 3, 4, 5, 6]\n",
    "\n",
    "import numpy as np\n",
    "\n",
    "MyArray = np.array(MyList)"
   ]
  },
  {
   "cell_type": "code",
   "execution_count": 83,
   "id": "44abff0e",
   "metadata": {},
   "outputs": [
    {
     "data": {
      "text/plain": [
       "array([1, 2, 3, 4, 5, 6])"
      ]
     },
     "execution_count": 83,
     "metadata": {},
     "output_type": "execute_result"
    }
   ],
   "source": [
    "MyArray"
   ]
  },
  {
   "cell_type": "markdown",
   "id": "93237d95",
   "metadata": {},
   "source": [
    "To access a specific number in an array, we can use its index similar to lists "
   ]
  },
  {
   "cell_type": "code",
   "execution_count": 84,
   "id": "b68eb04a",
   "metadata": {},
   "outputs": [
    {
     "name": "stdout",
     "output_type": "stream",
     "text": [
      "1\n"
     ]
    }
   ],
   "source": [
    "print (MyArray[0])"
   ]
  },
  {
   "cell_type": "markdown",
   "id": "fb8c72a4",
   "metadata": {},
   "source": [
    "We can also make an array out of a Tuple:"
   ]
  },
  {
   "cell_type": "code",
   "execution_count": 174,
   "id": "67a269b7",
   "metadata": {},
   "outputs": [],
   "source": [
    "# Make a Numpy array with MyTuple\n",
    "\n",
    "MyArray = np.array(MyTuple)"
   ]
  },
  {
   "cell_type": "markdown",
   "id": "f6e02c55",
   "metadata": {},
   "source": [
    "Multi dimension arrays"
   ]
  },
  {
   "cell_type": "code",
   "execution_count": 176,
   "id": "920ba21f",
   "metadata": {},
   "outputs": [],
   "source": [
    "# So far, we have had one dimensional (1D) arrays. We can have 2D (also called matrices) and 3D arrays too\n",
    "# A 3D arrays is an array that has 2D arrays (matrices) as its elements\n",
    "\n",
    "# An array with a single item is called 0 dimensional\n",
    "\n",
    "MyArray2 = np.array([[1, 2, 3], [4, 5, 6]])\n",
    "MyArray3 = np.array([[[1, 2, 3], [4, 5, 6]], [[1, 2, 3], [4, 5, 6]]])"
   ]
  },
  {
   "cell_type": "code",
   "execution_count": 180,
   "id": "2888031d",
   "metadata": {},
   "outputs": [
    {
     "data": {
      "text/plain": [
       "array([[1, 2, 3],\n",
       "       [4, 5, 6]])"
      ]
     },
     "execution_count": 180,
     "metadata": {},
     "output_type": "execute_result"
    }
   ],
   "source": [
    "# Print out the arrays to see them\n",
    "\n",
    "MyArray2"
   ]
  },
  {
   "cell_type": "markdown",
   "id": "fa1b084e",
   "metadata": {},
   "source": [
    "**ndim** would return the dimension of an array"
   ]
  },
  {
   "cell_type": "code",
   "execution_count": 187,
   "id": "35f917de",
   "metadata": {},
   "outputs": [
    {
     "name": "stdout",
     "output_type": "stream",
     "text": [
      "MyArray Dimension is 1\n",
      "MyArray2 Dimension is 2\n",
      "MyArray3 Dimension is 3\n"
     ]
    }
   ],
   "source": [
    "# Print out the dimension of MyArray, MyArray2, and MyArray3\n",
    "\n",
    "print(\"MyArray Dimension is\", MyArray.ndim)\n",
    "print(\"MyArray2 Dimension is\", MyArray2.ndim)\n",
    "print(\"MyArray3 Dimension is\", MyArray3.ndim)"
   ]
  },
  {
   "cell_type": "markdown",
   "id": "0f13a3c4",
   "metadata": {},
   "source": [
    "**Shape** of an Array\n",
    "\n",
    "NumPy arrays have an attribute called shape that returns a tuple with each index having the number of corresponding elements"
   ]
  },
  {
   "cell_type": "code",
   "execution_count": 209,
   "id": "ac208d5e",
   "metadata": {},
   "outputs": [
    {
     "name": "stdout",
     "output_type": "stream",
     "text": [
      "Shape of MyArray =  (5,)\n",
      "Shape of MyArray2 =  (2, 3)\n",
      "Shape of MyArray3 =  (2, 2, 3)\n"
     ]
    }
   ],
   "source": [
    "# Lets see the shape of MyArray, MyArray2 and MyArray3\n",
    "\n",
    "print(\"Shape of MyArray = \", MyArray.shape)\n",
    "print(\"Shape of MyArray2 = \", MyArray2.shape)\n",
    "print(\"Shape of MyArray3 = \", MyArray3.shape)\n"
   ]
  },
  {
   "cell_type": "markdown",
   "id": "b48d2e1e",
   "metadata": {},
   "source": [
    "**Accessing elements** of Arrays"
   ]
  },
  {
   "cell_type": "code",
   "execution_count": 192,
   "id": "d2142138",
   "metadata": {},
   "outputs": [
    {
     "name": "stdout",
     "output_type": "stream",
     "text": [
      "2\n"
     ]
    }
   ],
   "source": [
    "# Print out the 2nd element of the first dimension of MyArray2\n",
    "\n",
    "print(MyArray2[0,1])"
   ]
  },
  {
   "cell_type": "code",
   "execution_count": 196,
   "id": "e9f02af3",
   "metadata": {},
   "outputs": [
    {
     "name": "stdout",
     "output_type": "stream",
     "text": [
      "6\n"
     ]
    }
   ],
   "source": [
    "# Print out the last element of the second dimension of MyArray2\n",
    "\n",
    "print(MyArray2[1,-1])\n",
    "\n"
   ]
  },
  {
   "cell_type": "code",
   "execution_count": 221,
   "id": "679b8050",
   "metadata": {},
   "outputs": [
    {
     "name": "stdout",
     "output_type": "stream",
     "text": [
      "1\n",
      "2\n",
      "3\n",
      "4\n",
      "5\n",
      "6\n"
     ]
    }
   ],
   "source": [
    "# Accessing elements of a multi dimensional array one by one \n",
    "# We can do this via a for loop\n",
    "\n",
    "for x in MyArray2:\n",
    "    # x is a 1D array\n",
    "    for y in x:\n",
    "        print (y)"
   ]
  },
  {
   "cell_type": "markdown",
   "id": "dc37d75f",
   "metadata": {},
   "source": [
    "#### Slicing Arrays\n"
   ]
  },
  {
   "cell_type": "code",
   "execution_count": 199,
   "id": "04e7a6a2",
   "metadata": {},
   "outputs": [
    {
     "data": {
      "text/plain": [
       "array([3, 4, 5, 6])"
      ]
     },
     "execution_count": 199,
     "metadata": {},
     "output_type": "execute_result"
    }
   ],
   "source": [
    "# Given the following array:\n",
    "Digit = np.array(range(10))\n",
    "\n",
    "# Make a slice that contains the third element upto the 6th element (including 6th)\n",
    "SubDigit = Digit[2:7]\n",
    "\n",
    "\n",
    "\n",
    "SubDigit"
   ]
  },
  {
   "cell_type": "markdown",
   "id": "e1734922",
   "metadata": {},
   "source": [
    "#### Copying an array"
   ]
  },
  {
   "cell_type": "code",
   "execution_count": 202,
   "id": "9a032847",
   "metadata": {},
   "outputs": [
    {
     "data": {
      "text/plain": [
       "array([1, 2, 3, 4])"
      ]
     },
     "execution_count": 202,
     "metadata": {},
     "output_type": "execute_result"
    }
   ],
   "source": [
    "# Lets make a copy of MyArray\n",
    "\n",
    "CopyArray = MyArray.copy()\n",
    "\n",
    "# Now see the content of the copy\n",
    "\n",
    "CopyArray"
   ]
  }
 ],
 "metadata": {
  "kernelspec": {
   "display_name": "Python 3 (ipykernel)",
   "language": "python",
   "name": "python3"
  },
  "language_info": {
   "codemirror_mode": {
    "name": "ipython",
    "version": 3
   },
   "file_extension": ".py",
   "mimetype": "text/x-python",
   "name": "python",
   "nbconvert_exporter": "python",
   "pygments_lexer": "ipython3",
   "version": "3.8.11"
  }
 },
 "nbformat": 4,
 "nbformat_minor": 5
}
